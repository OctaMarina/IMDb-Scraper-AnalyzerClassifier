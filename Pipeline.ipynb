{
 "cells": [
  {
   "cell_type": "code",
   "id": "initial_id",
   "metadata": {
    "collapsed": true,
    "ExecuteTime": {
     "end_time": "2025-07-06T17:39:56.253138Z",
     "start_time": "2025-07-06T17:39:54.823923Z"
    }
   },
   "source": [
    "from utils.Preprocessor import preprocess_reviews\n",
    "from utils.FindMovie import search_movies, find_and_get_reviews_link\n",
    "from utils.Scrapper import extract_imdb_reviews\n",
    "from utils.SentimentAnalysis import analyze_sentiment"
   ],
   "outputs": [],
   "execution_count": 1
  },
  {
   "metadata": {},
   "cell_type": "markdown",
   "source": "# 1. Search for a movie and get the link",
   "id": "77f61b68699f23f2"
  },
  {
   "metadata": {
    "ExecuteTime": {
     "end_time": "2025-07-06T17:39:56.496197Z",
     "start_time": "2025-07-06T17:39:56.491594Z"
    }
   },
   "cell_type": "code",
   "source": "movie_name = 'Interstellar'",
   "id": "dddf0f1b341acc98",
   "outputs": [],
   "execution_count": 2
  },
  {
   "metadata": {
    "ExecuteTime": {
     "end_time": "2025-07-06T17:39:58.357231Z",
     "start_time": "2025-07-06T17:39:56.601921Z"
    }
   },
   "cell_type": "code",
   "source": [
    "from imdb import Cinemagoer\n",
    "ia = Cinemagoer()\n",
    "search_movies(ia,movie_name)"
   ],
   "id": "8332ea5a87869511",
   "outputs": [
    {
     "name": "stdout",
     "output_type": "stream",
     "text": [
      "1. Interstellar (N/A)\n",
      "2. Interstellar: Nolan's Odyssey (N/A)\n",
      "3. Interstellar Civil War: Shadows of the Empire (N/A)\n",
      "4. Interstellar Ella (N/A)\n",
      "5. The Science of Interstellar (N/A)\n",
      "6. Lolita from Interstellar Space (N/A)\n",
      "7. The Talented Mr. Ripley (N/A)\n",
      "8. Interstellar Wars (N/A)\n",
      "9. I'm the Evil Lord of an Intergalactic Empire! (N/A)\n",
      "10. Interstelar 2: Operation Terra 2040 (N/A)\n"
     ]
    },
    {
     "data": {
      "text/plain": [
       "[<Movie id:0816692[http] title:_Interstellar (None)_>,\n",
       " <Movie id:4172224[http] title:_Interstellar: Nolan's Odyssey (None)_>,\n",
       " <Movie id:5056352[http] title:_Interstellar Civil War: Shadows of the Empire (None)_>,\n",
       " <Movie id:26699362[http] title:_Interstellar Ella (None)_>,\n",
       " <Movie id:4415360[http] title:_The Science of Interstellar (None)_>,\n",
       " <Movie id:3506492[http] title:_Lolita from Interstellar Space (None)_>,\n",
       " <Movie id:0134119[http] title:_The Talented Mr. Ripley (None)_>,\n",
       " <Movie id:5083736[http] title:_Interstellar Wars (None)_>,\n",
       " <Movie id:34814625[http] title:_I'm the Evil Lord of an Intergalactic Empire! (None)_>,\n",
       " <Movie id:5709892[http] title:_Interstelar 2: Operation Terra 2040 (None)_>,\n",
       " <Movie id:0079946[http] title:_Starcrash (None)_>,\n",
       " <Movie id:6223974[http] title:_The Farthest (None)_>,\n",
       " <Movie id:5297406[http] title:_Inside 'Interstellar' (None)_>,\n",
       " <Movie id:0368667[http] title:_Interstella 5555: The 5tory of the 5ecret 5tar 5ystem (None)_>,\n",
       " <Movie id:35962085[http] title:_Primus Interstellar Drum Derby (None)_>,\n",
       " <Movie id:11236038[http] title:_Interstellar Ranger Commence (None)_>,\n",
       " <Movie id:35725827[http] title:_Faster Than Light: The Dream of Interstellar Flight (None)_>,\n",
       " <Movie id:0111474[http] title:_Trancers 4: Jack of Swords (None)_>,\n",
       " <Movie id:36330801[http] title:_Interstellar (Special Version) (None)_>,\n",
       " <Movie id:10728262[http] title:_Interstellar (None)_>]"
      ]
     },
     "execution_count": 3,
     "metadata": {},
     "output_type": "execute_result"
    }
   ],
   "execution_count": 3
  },
  {
   "metadata": {
    "ExecuteTime": {
     "end_time": "2025-07-06T17:39:58.408510Z",
     "start_time": "2025-07-06T17:39:58.397252Z"
    }
   },
   "cell_type": "code",
   "source": "selected = \"Interstellar\"",
   "id": "1a6d18300ce72a2c",
   "outputs": [],
   "execution_count": 4
  },
  {
   "metadata": {
    "ExecuteTime": {
     "end_time": "2025-07-06T17:39:59.880426Z",
     "start_time": "2025-07-06T17:39:58.472942Z"
    }
   },
   "cell_type": "code",
   "source": "url = find_and_get_reviews_link(ia,selected)",
   "id": "804de0206adf4b15",
   "outputs": [
    {
     "name": "stdout",
     "output_type": "stream",
     "text": [
      "Movie found: Interstellar (N/A)\n",
      "Reviews link: https://www.imdb.com/title/tt0816692/reviews\n"
     ]
    }
   ],
   "execution_count": 5
  },
  {
   "metadata": {},
   "cell_type": "markdown",
   "source": "# 2. Extract IMDb reviews",
   "id": "d742ef7fc38f229f"
  },
  {
   "metadata": {
    "ExecuteTime": {
     "end_time": "2025-07-06T17:40:23.226994Z",
     "start_time": "2025-07-06T17:39:59.925329Z"
    }
   },
   "cell_type": "code",
   "source": "reviews = extract_imdb_reviews(url)",
   "id": "6f6db731eacff3b6",
   "outputs": [],
   "execution_count": 6
  },
  {
   "metadata": {
    "ExecuteTime": {
     "end_time": "2025-07-06T17:40:23.362135Z",
     "start_time": "2025-07-06T17:40:23.342321Z"
    }
   },
   "cell_type": "code",
   "source": "len(reviews)",
   "id": "a4836004ad9f5ef9",
   "outputs": [
    {
     "data": {
      "text/plain": [
       "236"
      ]
     },
     "execution_count": 7,
     "metadata": {},
     "output_type": "execute_result"
    }
   ],
   "execution_count": 7
  },
  {
   "metadata": {
    "ExecuteTime": {
     "end_time": "2025-07-06T17:40:23.451013Z",
     "start_time": "2025-07-06T17:40:23.432123Z"
    }
   },
   "cell_type": "code",
   "source": "reviews[0]",
   "id": "419c962d13518b8f",
   "outputs": [
    {
     "data": {
      "text/plain": [
       "'Sometimes I just need to see the start. Or end. Or a trailer. Or the music and theme from Hans Zimmer. Or the whole movie. Just to feel that thing, I only get from this movie. That the earth, space and time are something special, mystical. I never forget the first time I saw this movie, in an IMAX theatre in 2014. I was struck by it. Totally got me. And it stil does, 7 years later. This is the best movie ever made for me. Because of the feeling it gives me, no other movie can. So hard to get all of this emotion in only one movie. Brilliant.'"
      ]
     },
     "execution_count": 8,
     "metadata": {},
     "output_type": "execute_result"
    }
   ],
   "execution_count": 8
  },
  {
   "metadata": {
    "ExecuteTime": {
     "end_time": "2025-07-06T17:40:33.037339Z",
     "start_time": "2025-07-06T17:40:23.507387Z"
    }
   },
   "cell_type": "code",
   "source": [
    "import pandas as pd\n",
    "\n",
    "reviews_processed = preprocess_reviews(pd.Series(reviews))"
   ],
   "id": "7e81c005681738f0",
   "outputs": [],
   "execution_count": 9
  },
  {
   "metadata": {
    "ExecuteTime": {
     "end_time": "2025-07-06T17:40:33.108326Z",
     "start_time": "2025-07-06T17:40:33.090858Z"
    }
   },
   "cell_type": "code",
   "source": "reviews_processed",
   "id": "66fa9cc00661d079",
   "outputs": [
    {
     "data": {
      "text/plain": [
       "0      sometimes need see start end trailer music the...\n",
       "1      watching insane movie theatre back 2014 swore ...\n",
       "2      lot said written interstellar obviously take a...\n",
       "3      amongst best movie time story acting script ci...\n",
       "4      interstellar movie like unlike many apocalypti...\n",
       "                             ...                        \n",
       "231    already lost count time seen movie still fasci...\n",
       "232    im slowly losing count many time ive seen movi...\n",
       "233    movie beautiful creative realistic emotional m...\n",
       "234    wonderful wonderful wonderful wonderful wonder...\n",
       "235    seen 5 time far huge christopher nolan fan mov...\n",
       "Length: 236, dtype: object"
      ]
     },
     "execution_count": 10,
     "metadata": {},
     "output_type": "execute_result"
    }
   ],
   "execution_count": 10
  },
  {
   "metadata": {},
   "cell_type": "markdown",
   "source": "# Sentiment Analysis",
   "id": "78d27164dfd56502"
  },
  {
   "metadata": {
    "ExecuteTime": {
     "end_time": "2025-07-06T17:40:34.192918Z",
     "start_time": "2025-07-06T17:40:33.233689Z"
    }
   },
   "cell_type": "code",
   "source": "df = analyze_sentiment(reviews_processed,pd.Series(reviews))",
   "id": "589d6e34b991d20c",
   "outputs": [],
   "execution_count": 11
  },
  {
   "metadata": {
    "ExecuteTime": {
     "end_time": "2025-07-06T17:40:34.330649Z",
     "start_time": "2025-07-06T17:40:34.302004Z"
    }
   },
   "cell_type": "code",
   "source": "df.head()",
   "id": "3d82cbcccb00e90c",
   "outputs": [
    {
     "data": {
      "text/plain": [
       "                                             reviews  polarity  subjectivity\n",
       "0  sometimes need see start end trailer music the...  0.301935      0.487054\n",
       "1  watching insane movie theatre back 2014 swore ...  0.000000      0.433333\n",
       "2  lot said written interstellar obviously take a...  0.253175      0.573810\n",
       "3  amongst best movie time story acting script ci...  0.360000      0.400000\n",
       "4  interstellar movie like unlike many apocalypti...  0.217173      0.512690"
      ],
      "text/html": [
       "<div>\n",
       "<style scoped>\n",
       "    .dataframe tbody tr th:only-of-type {\n",
       "        vertical-align: middle;\n",
       "    }\n",
       "\n",
       "    .dataframe tbody tr th {\n",
       "        vertical-align: top;\n",
       "    }\n",
       "\n",
       "    .dataframe thead th {\n",
       "        text-align: right;\n",
       "    }\n",
       "</style>\n",
       "<table border=\"1\" class=\"dataframe\">\n",
       "  <thead>\n",
       "    <tr style=\"text-align: right;\">\n",
       "      <th></th>\n",
       "      <th>reviews</th>\n",
       "      <th>polarity</th>\n",
       "      <th>subjectivity</th>\n",
       "    </tr>\n",
       "  </thead>\n",
       "  <tbody>\n",
       "    <tr>\n",
       "      <th>0</th>\n",
       "      <td>sometimes need see start end trailer music the...</td>\n",
       "      <td>0.301935</td>\n",
       "      <td>0.487054</td>\n",
       "    </tr>\n",
       "    <tr>\n",
       "      <th>1</th>\n",
       "      <td>watching insane movie theatre back 2014 swore ...</td>\n",
       "      <td>0.000000</td>\n",
       "      <td>0.433333</td>\n",
       "    </tr>\n",
       "    <tr>\n",
       "      <th>2</th>\n",
       "      <td>lot said written interstellar obviously take a...</td>\n",
       "      <td>0.253175</td>\n",
       "      <td>0.573810</td>\n",
       "    </tr>\n",
       "    <tr>\n",
       "      <th>3</th>\n",
       "      <td>amongst best movie time story acting script ci...</td>\n",
       "      <td>0.360000</td>\n",
       "      <td>0.400000</td>\n",
       "    </tr>\n",
       "    <tr>\n",
       "      <th>4</th>\n",
       "      <td>interstellar movie like unlike many apocalypti...</td>\n",
       "      <td>0.217173</td>\n",
       "      <td>0.512690</td>\n",
       "    </tr>\n",
       "  </tbody>\n",
       "</table>\n",
       "</div>"
      ]
     },
     "execution_count": 12,
     "metadata": {},
     "output_type": "execute_result"
    }
   ],
   "execution_count": 12
  },
  {
   "metadata": {
    "ExecuteTime": {
     "end_time": "2025-07-06T17:40:34.502083Z",
     "start_time": "2025-07-06T17:40:34.496173Z"
    }
   },
   "cell_type": "code",
   "source": "",
   "id": "f3b1b74ffde6a3b0",
   "outputs": [],
   "execution_count": null
  }
 ],
 "metadata": {
  "kernelspec": {
   "display_name": "Python 3",
   "language": "python",
   "name": "python3"
  },
  "language_info": {
   "codemirror_mode": {
    "name": "ipython",
    "version": 2
   },
   "file_extension": ".py",
   "mimetype": "text/x-python",
   "name": "python",
   "nbconvert_exporter": "python",
   "pygments_lexer": "ipython2",
   "version": "2.7.6"
  }
 },
 "nbformat": 4,
 "nbformat_minor": 5
}
